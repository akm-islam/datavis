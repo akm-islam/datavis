{
 "cells": [
  {
   "cell_type": "code",
   "execution_count": 5,
   "metadata": {},
   "outputs": [],
   "source": [
    "from pandas import DataFrame, read_csv\n",
    "import pandas as pd "
   ]
  },
  {
   "cell_type": "code",
   "execution_count": 6,
   "metadata": {},
   "outputs": [],
   "source": [
    "header=['A','B','C','D']"
   ]
  },
  {
   "cell_type": "code",
   "execution_count": 7,
   "metadata": {},
   "outputs": [
    {
     "data": {
      "text/plain": [
       "['A', 'B', 'C', 'D']"
      ]
     },
     "execution_count": 7,
     "metadata": {},
     "output_type": "execute_result"
    }
   ],
   "source": [
    "header"
   ]
  },
  {
   "cell_type": "code",
   "execution_count": 8,
   "metadata": {},
   "outputs": [],
   "source": [
    "data=['Arow1','Bname1','Cage1','Dcity1']"
   ]
  },
  {
   "cell_type": "code",
   "execution_count": 9,
   "metadata": {},
   "outputs": [],
   "source": [
    "data2=pd.read_csv('census-income.csv')"
   ]
  },
  {
   "cell_type": "code",
   "execution_count": 10,
   "metadata": {},
   "outputs": [
    {
     "data": {
      "text/html": [
       "<div>\n",
       "<style scoped>\n",
       "    .dataframe tbody tr th:only-of-type {\n",
       "        vertical-align: middle;\n",
       "    }\n",
       "\n",
       "    .dataframe tbody tr th {\n",
       "        vertical-align: top;\n",
       "    }\n",
       "\n",
       "    .dataframe thead th {\n",
       "        text-align: right;\n",
       "    }\n",
       "</style>\n",
       "<table border=\"1\" class=\"dataframe\">\n",
       "  <thead>\n",
       "    <tr style=\"text-align: right;\">\n",
       "      <th></th>\n",
       "      <th>A</th>\n",
       "      <th>B</th>\n",
       "      <th>C</th>\n",
       "      <th>D</th>\n",
       "    </tr>\n",
       "  </thead>\n",
       "  <tbody>\n",
       "    <tr>\n",
       "      <th>0</th>\n",
       "      <td>Arow1</td>\n",
       "      <td>Bname1</td>\n",
       "      <td>Cage1</td>\n",
       "      <td>Dcity1</td>\n",
       "    </tr>\n",
       "    <tr>\n",
       "      <th>1</th>\n",
       "      <td>Arow1</td>\n",
       "      <td>Bname2</td>\n",
       "      <td>Cage2</td>\n",
       "      <td>Dcity2</td>\n",
       "    </tr>\n",
       "    <tr>\n",
       "      <th>2</th>\n",
       "      <td>Arow1</td>\n",
       "      <td>Bname3</td>\n",
       "      <td>Cage3</td>\n",
       "      <td>Dcity3</td>\n",
       "    </tr>\n",
       "    <tr>\n",
       "      <th>3</th>\n",
       "      <td>Arow1</td>\n",
       "      <td>Bname4</td>\n",
       "      <td>Cage4</td>\n",
       "      <td>Dcity4</td>\n",
       "    </tr>\n",
       "    <tr>\n",
       "      <th>4</th>\n",
       "      <td>Arow2</td>\n",
       "      <td>Bname5</td>\n",
       "      <td>Cage5</td>\n",
       "      <td>Dcity5</td>\n",
       "    </tr>\n",
       "    <tr>\n",
       "      <th>5</th>\n",
       "      <td>Arow2</td>\n",
       "      <td>Bname6</td>\n",
       "      <td>Cage6</td>\n",
       "      <td>Dcity6</td>\n",
       "    </tr>\n",
       "    <tr>\n",
       "      <th>6</th>\n",
       "      <td>Arow2</td>\n",
       "      <td>Bname7</td>\n",
       "      <td>Cage7</td>\n",
       "      <td>Dcity7</td>\n",
       "    </tr>\n",
       "    <tr>\n",
       "      <th>7</th>\n",
       "      <td>Arow3</td>\n",
       "      <td>Bname8</td>\n",
       "      <td>Cage8</td>\n",
       "      <td>Dcity8</td>\n",
       "    </tr>\n",
       "    <tr>\n",
       "      <th>8</th>\n",
       "      <td>Arow2</td>\n",
       "      <td>Bname9</td>\n",
       "      <td>Cage9</td>\n",
       "      <td>Dcity9</td>\n",
       "    </tr>\n",
       "  </tbody>\n",
       "</table>\n",
       "</div>"
      ],
      "text/plain": [
       "       A       B      C       D\n",
       "0  Arow1  Bname1  Cage1  Dcity1\n",
       "1  Arow1  Bname2  Cage2  Dcity2\n",
       "2  Arow1  Bname3  Cage3  Dcity3\n",
       "3  Arow1  Bname4  Cage4  Dcity4\n",
       "4  Arow2  Bname5  Cage5  Dcity5\n",
       "5  Arow2  Bname6  Cage6  Dcity6\n",
       "6  Arow2  Bname7  Cage7  Dcity7\n",
       "7  Arow3  Bname8  Cage8  Dcity8\n",
       "8  Arow2  Bname9  Cage9  Dcity9"
      ]
     },
     "execution_count": 10,
     "metadata": {},
     "output_type": "execute_result"
    }
   ],
   "source": [
    "data2"
   ]
  },
  {
   "cell_type": "code",
   "execution_count": 15,
   "metadata": {},
   "outputs": [],
   "source": [
    "dict={}\n",
    "arr_columns=[]\n",
    "arr=[]\n",
    "for columns in data2.columns:\n",
    "    counter=0\n",
    "    arr_columns.append(columns)\n",
    "    init_row=''\n",
    "    #print(columns)\n",
    "    for rows in data2[columns]: \n",
    "        dict[rows]=0\n",
    "        #print(rows)\n",
    "        arr.append(rows)"
   ]
  },
  {
   "cell_type": "code",
   "execution_count": null,
   "metadata": {},
   "outputs": [],
   "source": []
  },
  {
   "cell_type": "code",
   "execution_count": 17,
   "metadata": {},
   "outputs": [
    {
     "name": "stdout",
     "output_type": "stream",
     "text": [
      "0 Arow1\n",
      "1 Arow1\n",
      "2 Arow1\n",
      "4 Arow2\n",
      "5 Arow2\n"
     ]
    }
   ],
   "source": [
    "for i in range(0,len(arr)-1):\n",
    "    if arr[i]==arr[i+1]:\n",
    "        print(i,arr[i])"
   ]
  },
  {
   "cell_type": "code",
   "execution_count": null,
   "metadata": {},
   "outputs": [],
   "source": []
  },
  {
   "cell_type": "code",
   "execution_count": 18,
   "metadata": {},
   "outputs": [],
   "source": [
    "for i in range(0,10):\n",
    "    thisdict['x']=thisdict['x']+1"
   ]
  },
  {
   "cell_type": "code",
   "execution_count": 19,
   "metadata": {},
   "outputs": [
    {
     "data": {
      "text/plain": [
       "25"
      ]
     },
     "execution_count": 19,
     "metadata": {},
     "output_type": "execute_result"
    }
   ],
   "source": [
    "thisdict['x']"
   ]
  },
  {
   "cell_type": "code",
   "execution_count": 20,
   "metadata": {},
   "outputs": [],
   "source": [
    "for key in dict.keys():\n",
    "    dict[key]=arr.count(key)"
   ]
  },
  {
   "cell_type": "code",
   "execution_count": null,
   "metadata": {},
   "outputs": [],
   "source": []
  },
  {
   "cell_type": "code",
   "execution_count": 22,
   "metadata": {},
   "outputs": [],
   "source": [
    "itemdic={}\n",
    "for key in dict.keys():\n",
    "    if arr.count(key)>1:\n",
    "        itemdic[key]=arr.count(key)"
   ]
  },
  {
   "cell_type": "code",
   "execution_count": 23,
   "metadata": {},
   "outputs": [
    {
     "data": {
      "text/plain": [
       "{'Arow1': 4, 'Arow2': 4}"
      ]
     },
     "execution_count": 23,
     "metadata": {},
     "output_type": "execute_result"
    }
   ],
   "source": [
    "itemdic"
   ]
  },
  {
   "cell_type": "code",
   "execution_count": null,
   "metadata": {
    "collapsed": true
   },
   "outputs": [],
   "source": []
  }
 ],
 "metadata": {
  "kernelspec": {
   "display_name": "Python 3",
   "language": "python",
   "name": "python3"
  }
 },
 "nbformat": 4,
 "nbformat_minor": 2
}
